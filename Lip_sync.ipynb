{
  "nbformat": 4,
  "nbformat_minor": 0,
  "metadata": {
    "colab": {
      "provenance": [],
      "gpuType": "T4"
    },
    "kernelspec": {
      "name": "python3",
      "display_name": "Python 3"
    },
    "language_info": {
      "name": "python"
    },
    "accelerator": "GPU"
  },
  "cells": [
    {
      "cell_type": "code",
      "execution_count": null,
      "metadata": {
        "id": "SwJOSkOyPqPM"
      },
      "outputs": [],
      "source": [
        "!git clone https://github.com/nextosai/LatentSync.git\n",
        "%cd LatentSync"
      ]
    },
    {
      "cell_type": "code",
      "source": [
        "!apt-get install ffmpeg -y\n",
        "!pip uninstall -y diffusers accelerate peft\n",
        "!pip install diffusers==0.27.2 accelerate==0.24.0 peft==0.8.2\n",
        "!pip install -r requirements.txt\n"
      ],
      "metadata": {
        "id": "1H_j_qw9W7Ru"
      },
      "execution_count": null,
      "outputs": []
    },
    {
      "cell_type": "code",
      "source": [
        "import os\n",
        "os.makedirs('checkpoints', exist_ok=True)\n"
      ],
      "metadata": {
        "id": "bChRAI-nPwud"
      },
      "execution_count": null,
      "outputs": []
    },
    {
      "cell_type": "code",
      "source": [
        "!wget https://huggingface.co/ByteDance/LatentSync-1.5/resolve/main/latentsync_unet.pt\n"
      ],
      "metadata": {
        "id": "sEfUI8YtUic2"
      },
      "execution_count": null,
      "outputs": []
    },
    {
      "cell_type": "code",
      "source": [
        "!mkdir -p checkpoints\n",
        "!mv latentsync_unet.pt checkpoints/\n"
      ],
      "metadata": {
        "id": "uTpsL4m6VA3u"
      },
      "execution_count": null,
      "outputs": []
    },
    {
      "cell_type": "code",
      "source": [
        "!pwd\n",
        "!ls\n"
      ],
      "metadata": {
        "id": "5C2dPEbdVdRZ"
      },
      "execution_count": null,
      "outputs": []
    },
    {
      "cell_type": "code",
      "source": [
        "!python -m scripts.inference \\\n",
        "--unet_config_path configs/unet/stage2.yaml \\\n",
        "--inference_ckpt_path checkpoints/latentsync_unet.pt \\\n",
        "--inference_steps 15 \\\n",
        "--guidance_scale 1.5 \\\n",
        "--video_path /content/short5sec.mp4 \\\n",
        "--audio_path /content/audio11.wav \\\n",
        "--video_out_path /content/result_short.mp4\n"
      ],
      "metadata": {
        "id": "TAnqOzXFV3C0"
      },
      "execution_count": null,
      "outputs": []
    },
    {
      "cell_type": "code",
      "source": [
        "from google.colab import files\n",
        "files.download('/content/result_short.mp4')"
      ],
      "metadata": {
        "id": "RKnIpS1ZbLUn"
      },
      "execution_count": null,
      "outputs": []
    }
  ]
}